{
 "cells": [
  {
   "cell_type": "markdown",
   "id": "724bde7d-2a75-4bd7-8f85-f21a62e43de7",
   "metadata": {},
   "source": [
    "### SimpleMKL Training\n",
    "\n",
    "\n",
    "Utilize this function https://github.com/qintian0321/SimpleMKL_python/blob/master/mysimpleMKL_implementation.py"
   ]
  },
  {
   "cell_type": "code",
   "execution_count": null,
   "id": "80d3d0da-5c93-48a7-9344-ecd64e0fdf5f",
   "metadata": {},
   "outputs": [],
   "source": []
  }
 ],
 "metadata": {
  "kernelspec": {
   "display_name": "Python [conda env:research]",
   "language": "python",
   "name": "conda-env-research-py"
  },
  "language_info": {
   "codemirror_mode": {
    "name": "ipython",
    "version": 3
   },
   "file_extension": ".py",
   "mimetype": "text/x-python",
   "name": "python",
   "nbconvert_exporter": "python",
   "pygments_lexer": "ipython3",
   "version": "3.7.12"
  }
 },
 "nbformat": 4,
 "nbformat_minor": 5
}
