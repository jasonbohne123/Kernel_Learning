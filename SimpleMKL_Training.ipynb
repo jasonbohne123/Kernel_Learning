{
 "cells": [
  {
   "cell_type": "markdown",
   "id": "1118847e-5723-4e56-98b5-691a5d0b2d8b",
   "metadata": {},
   "source": [
    "### Kernel Learning\n",
    "\n",
    "- Utilizes C-Support Vector Classification in Scikit-Learn\n",
    "https://scikit-learn.org/stable/modules/svm.html\n",
    "\n",
    "\n",
    "- Dependency is libsvm\n",
    "\n",
    "- Multiclass is handled within a 1 vs. 1 approach"
   ]
  },
  {
   "cell_type": "code",
   "execution_count": 2,
   "id": "b9115424-fe1b-4b8c-a9db-e86ea0db2fab",
   "metadata": {},
   "outputs": [
    {
     "name": "stderr",
     "output_type": "stream",
     "text": [
      "/home/jbohn/miniconda3/envs/research/lib/python3.10/site-packages/scipy/__init__.py:146: UserWarning: A NumPy version >=1.16.5 and <1.23.0 is required for this version of SciPy (detected version 1.23.1\n",
      "  warnings.warn(f\"A NumPy version >={np_minversion} and <{np_maxversion}\"\n"
     ]
    }
   ],
   "source": [
    "import sklearn\n",
    "from sklearn import svm\n",
    "from sklearn.preprocessing import StandardScaler\n",
    "from sklearn.model_selection import train_test_split\n",
    "from sklearn.model_selection import cross_validate\n",
    "from sklearn.metrics import make_scorer, accuracy_score,precision_score,recall_score\n",
    "\n",
    "import numpy as np\n",
    "import pandas as pd"
   ]
  },
  {
   "cell_type": "code",
   "execution_count": null,
   "id": "b133dc06-e194-4da8-89e3-8f2ebc50c060",
   "metadata": {},
   "outputs": [],
   "source": []
  },
  {
   "cell_type": "markdown",
   "id": "f42db12a-ff74-4cb6-93fa-193203b8adad",
   "metadata": {},
   "source": [
    "### Load and Split Data"
   ]
  },
  {
   "cell_type": "code",
   "execution_count": 3,
   "id": "d9af5a1d-d1f1-47c5-8746-71c21a1ff432",
   "metadata": {},
   "outputs": [],
   "source": [
    "label_data=pd.read_csv('/home/jbohn/jupyter/personal/sbu/Kernel_Learning/data/labeled_data.csv',index_col=0)\n"
   ]
  },
  {
   "cell_type": "code",
   "execution_count": 4,
   "id": "07441194-911e-4fb4-b4d9-452db61b3bce",
   "metadata": {},
   "outputs": [],
   "source": [
    "features=label_data[['FB0','FA0','FB2','FA2']].copy()\n",
    "outcomes=label_data['outcome'].copy()\n",
    "X_train , X_test , y_train, y_test = train_test_split(features, outcomes, random_state=1234,train_size=0.75)"
   ]
  },
  {
   "cell_type": "markdown",
   "id": "16dc5578-ac87-4c89-8da3-87c998c7862c",
   "metadata": {},
   "source": [
    "### Normalize features \n",
    "\n",
    "- Linear SVM aims to maximize distance between observations, therefore we wish to normalize each feature such that there is an equal influence"
   ]
  },
  {
   "cell_type": "code",
   "execution_count": 5,
   "id": "c7e8597a-dfa0-4270-9b5c-29d41edc6979",
   "metadata": {},
   "outputs": [
    {
     "data": {
      "text/plain": [
       "array([[-0.30855379, -0.29611603, -0.00730284,  0.19584904],\n",
       "       [-0.30855379,  1.20483414, -0.00730284,  1.36859778],\n",
       "       [-0.30855379, -0.10849725, -0.00730284,  0.19584904],\n",
       "       ...,\n",
       "       [-0.51947924, -0.4837348 , -0.00730284,  0.04925545],\n",
       "       [-0.51947924, -0.4837348 , -0.44799169,  0.04925545],\n",
       "       [-0.51947924, -0.4837348 , -2.21074709,  0.04925545]])"
      ]
     },
     "execution_count": 5,
     "metadata": {},
     "output_type": "execute_result"
    }
   ],
   "source": [
    "scaler = StandardScaler()\n",
    "scaler.fit(X_train)\n",
    "scaler.transform(X_train)"
   ]
  },
  {
   "cell_type": "markdown",
   "id": "26fedfda-0092-4110-a125-b1e96e2446cc",
   "metadata": {},
   "source": [
    "### Single Kernel Training\n",
    "\n",
    "Radial Basis Function of scaled gamma param (CV)\n",
    "\n",
    "Evaluation Metrics (Multilabel as 3 outcomes)\n",
    "- Raw Accuracy: % of correct observations\n",
    "- Precision: Ratio of correct positive predictions to all outcomes\n",
    "- Recall : Ratio correct positive predictions to potential"
   ]
  },
  {
   "cell_type": "code",
   "execution_count": 22,
   "id": "d8a5a0b5-c1d1-45b4-9ac7-c61be53efe26",
   "metadata": {},
   "outputs": [],
   "source": [
    "clf = svm.SVC(kernel='rbf',gamma='scale',verbose=False,decision_function_shape='ovo')\n",
    "model=clf.fit(X_train,y_train)"
   ]
  },
  {
   "cell_type": "markdown",
   "id": "fd8c79fd-988d-4f82-83db-cab19be4876b",
   "metadata": {},
   "source": [
    "Examining the decision function of our classifier"
   ]
  },
  {
   "cell_type": "code",
   "execution_count": 24,
   "id": "271fca98-748a-4b66-b350-975705ad6c8e",
   "metadata": {},
   "outputs": [
    {
     "name": "stderr",
     "output_type": "stream",
     "text": [
      "/home/jbohn/miniconda3/envs/research/lib/python3.10/site-packages/sklearn/base.py:450: UserWarning: X does not have valid feature names, but SVC was fitted with feature names\n",
      "  warnings.warn(\n"
     ]
    },
    {
     "data": {
      "text/plain": [
       "array([[-0.98412853, -0.4796191 ,  0.97505275]])"
      ]
     },
     "execution_count": 24,
     "metadata": {},
     "output_type": "execute_result"
    }
   ],
   "source": [
    "sample=X_test.iloc[0].values.reshape(1,-1)\n",
    "\n",
    "model.decision_function(sample)"
   ]
  },
  {
   "cell_type": "code",
   "execution_count": null,
   "id": "32d4e985-9db4-48f7-9a47-d94dd5c02684",
   "metadata": {},
   "outputs": [],
   "source": []
  },
  {
   "cell_type": "markdown",
   "id": "d880b21f-598f-408c-ad71-5ef5bb9d8816",
   "metadata": {},
   "source": [
    "### Cross Validation of Kernel Bandwidth\n",
    "\n"
   ]
  },
  {
   "cell_type": "code",
   "execution_count": 26,
   "id": "47b771a0-e7c2-486c-a0c0-75ea756202a4",
   "metadata": {},
   "outputs": [],
   "source": [
    "scoring = {'accuracy': make_scorer(accuracy_score),\n",
    "           'precision': make_scorer(precision_score, average = 'weighted', zero_division=0),\n",
    "           'recall': make_scorer(recall_score, average = 'weighted', zero_division=0)}\n",
    "\n",
    "# weighted average between multilabeled outcomes "
   ]
  },
  {
   "cell_type": "code",
   "execution_count": 27,
   "id": "d44b4bd7-2b75-4089-b579-1706dcd1a094",
   "metadata": {},
   "outputs": [],
   "source": [
    "cv_results = cross_validate(clf, X_train, y_train, cv=10,scoring=scoring,return_train_score=True)"
   ]
  },
  {
   "cell_type": "code",
   "execution_count": 28,
   "id": "9f52a050-ef7f-43af-901c-7c88985709e1",
   "metadata": {},
   "outputs": [
    {
     "data": {
      "text/html": [
       "<div>\n",
       "<style scoped>\n",
       "    .dataframe tbody tr th:only-of-type {\n",
       "        vertical-align: middle;\n",
       "    }\n",
       "\n",
       "    .dataframe tbody tr th {\n",
       "        vertical-align: top;\n",
       "    }\n",
       "\n",
       "    .dataframe thead th {\n",
       "        text-align: right;\n",
       "    }\n",
       "</style>\n",
       "<table border=\"1\" class=\"dataframe\">\n",
       "  <thead>\n",
       "    <tr style=\"text-align: right;\">\n",
       "      <th></th>\n",
       "      <th>fit_time</th>\n",
       "      <th>score_time</th>\n",
       "      <th>test_accuracy</th>\n",
       "      <th>train_accuracy</th>\n",
       "      <th>test_precision</th>\n",
       "      <th>train_precision</th>\n",
       "      <th>test_recall</th>\n",
       "      <th>train_recall</th>\n",
       "    </tr>\n",
       "  </thead>\n",
       "  <tbody>\n",
       "    <tr>\n",
       "      <th>0</th>\n",
       "      <td>0.051719</td>\n",
       "      <td>0.008779</td>\n",
       "      <td>0.409091</td>\n",
       "      <td>0.419314</td>\n",
       "      <td>0.167355</td>\n",
       "      <td>0.683516</td>\n",
       "      <td>0.409091</td>\n",
       "      <td>0.419314</td>\n",
       "    </tr>\n",
       "    <tr>\n",
       "      <th>1</th>\n",
       "      <td>0.048136</td>\n",
       "      <td>0.007641</td>\n",
       "      <td>0.409091</td>\n",
       "      <td>0.418043</td>\n",
       "      <td>0.167355</td>\n",
       "      <td>0.759319</td>\n",
       "      <td>0.409091</td>\n",
       "      <td>0.418043</td>\n",
       "    </tr>\n",
       "    <tr>\n",
       "      <th>2</th>\n",
       "      <td>0.072835</td>\n",
       "      <td>0.009625</td>\n",
       "      <td>0.409091</td>\n",
       "      <td>0.419314</td>\n",
       "      <td>0.167355</td>\n",
       "      <td>0.683516</td>\n",
       "      <td>0.409091</td>\n",
       "      <td>0.419314</td>\n",
       "    </tr>\n",
       "    <tr>\n",
       "      <th>3</th>\n",
       "      <td>0.046446</td>\n",
       "      <td>0.008017</td>\n",
       "      <td>0.409091</td>\n",
       "      <td>0.419314</td>\n",
       "      <td>0.167355</td>\n",
       "      <td>0.683516</td>\n",
       "      <td>0.409091</td>\n",
       "      <td>0.419314</td>\n",
       "    </tr>\n",
       "    <tr>\n",
       "      <th>4</th>\n",
       "      <td>0.052648</td>\n",
       "      <td>0.008361</td>\n",
       "      <td>0.397727</td>\n",
       "      <td>0.418043</td>\n",
       "      <td>0.164577</td>\n",
       "      <td>0.759319</td>\n",
       "      <td>0.397727</td>\n",
       "      <td>0.418043</td>\n",
       "    </tr>\n",
       "    <tr>\n",
       "      <th>5</th>\n",
       "      <td>0.066541</td>\n",
       "      <td>0.010641</td>\n",
       "      <td>0.413793</td>\n",
       "      <td>0.418782</td>\n",
       "      <td>0.171225</td>\n",
       "      <td>0.683382</td>\n",
       "      <td>0.413793</td>\n",
       "      <td>0.418782</td>\n",
       "    </tr>\n",
       "    <tr>\n",
       "      <th>6</th>\n",
       "      <td>0.044314</td>\n",
       "      <td>0.011183</td>\n",
       "      <td>0.413793</td>\n",
       "      <td>0.421320</td>\n",
       "      <td>0.457742</td>\n",
       "      <td>0.649414</td>\n",
       "      <td>0.413793</td>\n",
       "      <td>0.421320</td>\n",
       "    </tr>\n",
       "    <tr>\n",
       "      <th>7</th>\n",
       "      <td>0.041616</td>\n",
       "      <td>0.007822</td>\n",
       "      <td>0.402299</td>\n",
       "      <td>0.421320</td>\n",
       "      <td>0.170385</td>\n",
       "      <td>0.672806</td>\n",
       "      <td>0.402299</td>\n",
       "      <td>0.421320</td>\n",
       "    </tr>\n",
       "    <tr>\n",
       "      <th>8</th>\n",
       "      <td>0.062684</td>\n",
       "      <td>0.012026</td>\n",
       "      <td>0.413793</td>\n",
       "      <td>0.420051</td>\n",
       "      <td>0.171225</td>\n",
       "      <td>0.672950</td>\n",
       "      <td>0.413793</td>\n",
       "      <td>0.420051</td>\n",
       "    </tr>\n",
       "    <tr>\n",
       "      <th>9</th>\n",
       "      <td>0.048322</td>\n",
       "      <td>0.009768</td>\n",
       "      <td>0.402299</td>\n",
       "      <td>0.421320</td>\n",
       "      <td>0.161844</td>\n",
       "      <td>0.759625</td>\n",
       "      <td>0.402299</td>\n",
       "      <td>0.421320</td>\n",
       "    </tr>\n",
       "  </tbody>\n",
       "</table>\n",
       "</div>"
      ],
      "text/plain": [
       "   fit_time  score_time  test_accuracy  train_accuracy  test_precision  \\\n",
       "0  0.051719    0.008779       0.409091        0.419314        0.167355   \n",
       "1  0.048136    0.007641       0.409091        0.418043        0.167355   \n",
       "2  0.072835    0.009625       0.409091        0.419314        0.167355   \n",
       "3  0.046446    0.008017       0.409091        0.419314        0.167355   \n",
       "4  0.052648    0.008361       0.397727        0.418043        0.164577   \n",
       "5  0.066541    0.010641       0.413793        0.418782        0.171225   \n",
       "6  0.044314    0.011183       0.413793        0.421320        0.457742   \n",
       "7  0.041616    0.007822       0.402299        0.421320        0.170385   \n",
       "8  0.062684    0.012026       0.413793        0.420051        0.171225   \n",
       "9  0.048322    0.009768       0.402299        0.421320        0.161844   \n",
       "\n",
       "   train_precision  test_recall  train_recall  \n",
       "0         0.683516     0.409091      0.419314  \n",
       "1         0.759319     0.409091      0.418043  \n",
       "2         0.683516     0.409091      0.419314  \n",
       "3         0.683516     0.409091      0.419314  \n",
       "4         0.759319     0.397727      0.418043  \n",
       "5         0.683382     0.413793      0.418782  \n",
       "6         0.649414     0.413793      0.421320  \n",
       "7         0.672806     0.402299      0.421320  \n",
       "8         0.672950     0.413793      0.420051  \n",
       "9         0.759625     0.402299      0.421320  "
      ]
     },
     "execution_count": 28,
     "metadata": {},
     "output_type": "execute_result"
    }
   ],
   "source": [
    "pd.DataFrame(cv_results)"
   ]
  },
  {
   "cell_type": "markdown",
   "id": "1b3c59a2-7aba-4bd7-81a8-40b815512edc",
   "metadata": {},
   "source": [
    "### Out of Sample Accuracy"
   ]
  },
  {
   "cell_type": "code",
   "execution_count": 29,
   "id": "7a0a1cdd-1937-4eff-bff6-f30657d6b945",
   "metadata": {},
   "outputs": [
    {
     "data": {
      "text/plain": [
       "0.3801369863013699"
      ]
     },
     "execution_count": 29,
     "metadata": {},
     "output_type": "execute_result"
    }
   ],
   "source": [
    "model.score(X_test,y_test)"
   ]
  },
  {
   "cell_type": "markdown",
   "id": "724bde7d-2a75-4bd7-8f85-f21a62e43de7",
   "metadata": {},
   "source": [
    "### SimpleMKL Training\n",
    "\n",
    "- In scikit-learn we utilized a single kernel (radial basis function) with cross validated bandwidth (via grid search)\n",
    "\n",
    "- We now want to extend to the case of multiple kernels (linear combination of a basis set)\n",
    "\n",
    "- Utilize this function https://github.com/qintian0321/SimpleMKL_python/blob/master/mysimpleMKL_implementation.py"
   ]
  },
  {
   "cell_type": "code",
   "execution_count": null,
   "id": "e9c118e0-172d-4c00-8ec9-4ad85a62dfa6",
   "metadata": {},
   "outputs": [],
   "source": []
  },
  {
   "cell_type": "code",
   "execution_count": null,
   "id": "80d3d0da-5c93-48a7-9344-ecd64e0fdf5f",
   "metadata": {},
   "outputs": [],
   "source": []
  }
 ],
 "metadata": {
  "kernelspec": {
   "display_name": "Python [conda env:research] *",
   "language": "python",
   "name": "conda-env-research-py"
  },
  "language_info": {
   "codemirror_mode": {
    "name": "ipython",
    "version": 3
   },
   "file_extension": ".py",
   "mimetype": "text/x-python",
   "name": "python",
   "nbconvert_exporter": "python",
   "pygments_lexer": "ipython3",
   "version": "3.10.4"
  }
 },
 "nbformat": 4,
 "nbformat_minor": 5
}
