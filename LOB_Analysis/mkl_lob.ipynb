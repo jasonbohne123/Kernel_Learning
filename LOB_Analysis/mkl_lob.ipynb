{
 "cells": [
  {
   "cell_type": "code",
   "execution_count": 1,
   "metadata": {},
   "outputs": [],
   "source": [
    "import numpy as np\n",
    "import pandas as pd\n",
    "\n",
    "\n",
    "from mkl_solver import primal_dual_opt\n"
   ]
  },
  {
   "cell_type": "code",
   "execution_count": 12,
   "metadata": {},
   "outputs": [],
   "source": [
    "path='/home/jbohn/jupyter/personal/Kernel_Learning/'\n",
    "\n",
    "labeled_data=pd.read_csv(path+'data/labeled_data.csv')\n",
    "labeled_data.index=labeled_data['last_interval']\n",
    "features=labeled_data[['FB0','FA0','FB2','FA2']]\n",
    "outcomes=labeled_data['outcome']\n",
    "\n"
   ]
  },
  {
   "cell_type": "markdown",
   "metadata": {},
   "source": [
    "### Perform Normalization"
   ]
  },
  {
   "cell_type": "code",
   "execution_count": 13,
   "metadata": {},
   "outputs": [
    {
     "data": {
      "text/plain": [
       "(                          FB0       FA0       FB2       FA2\n",
       " last_interval                                              \n",
       " 2020-01-02 09:30:00 -0.279873 -0.233347 -0.269437  0.023786\n",
       " 2020-01-02 09:31:00 -0.462780 -0.156346 -0.002077  0.023786\n",
       " 2020-01-02 09:32:00 -0.096967 -0.156346 -0.002077  0.110666\n",
       " 2020-01-02 09:33:00 -0.462780 -0.156346 -0.269437  0.023786\n",
       " 2020-01-02 09:34:00 -0.096967 -0.002345 -0.002077  0.110666\n",
       " ...                       ...       ...       ...       ...\n",
       " 2020-01-09 15:55:00 -0.279873 -0.156346 -0.002077  0.110666\n",
       " 2020-01-09 15:56:00 -0.462780 -0.002345 -0.002077  0.023786\n",
       " 2020-01-09 15:57:00 -0.279873 -0.233347  0.265283 -0.236856\n",
       " 2020-01-09 15:58:00  0.268846  0.459659 -0.002077 -1.540066\n",
       " 2020-01-09 15:59:00 -0.279873 -0.002345 -0.002077  0.110666\n",
       " \n",
       " [3218 rows x 4 columns],\n",
       " last_interval\n",
       " 2020-01-02 09:30:00   -1\n",
       " 2020-01-02 09:31:00   -1\n",
       " 2020-01-02 09:32:00    1\n",
       " 2020-01-02 09:33:00    1\n",
       " 2020-01-02 09:34:00    1\n",
       "                       ..\n",
       " 2020-01-09 15:55:00    1\n",
       " 2020-01-09 15:56:00    1\n",
       " 2020-01-09 15:57:00   -1\n",
       " 2020-01-09 15:58:00    0\n",
       " 2020-01-09 15:59:00    0\n",
       " Name: outcome, Length: 3218, dtype: int64)"
      ]
     },
     "execution_count": 13,
     "metadata": {},
     "output_type": "execute_result"
    }
   ],
   "source": [
    "def normalize_features(features):\n",
    "    return (features-features.mean())/features.std()\n",
    "\n",
    "\n",
    "\n",
    "features=normalize_features(features)\n",
    "\n",
    "features,outcomes"
   ]
  },
  {
   "cell_type": "code",
   "execution_count": 14,
   "metadata": {},
   "outputs": [],
   "source": [
    "def batch_features(features,outcomes,batch_size):\n",
    "    \"\"\" Returns a batch of features and outcomes\n",
    "    \"\"\"\n",
    "    batched_dict={}\n",
    "    for i in range(0,len(features),batch_size):\n",
    "        # save the features and outcomes for each batch; timestamped by last interval \n",
    "        batched_dict[i/batch_size]={\"last_interval\":features.index[i] ,\"features\":features[i:i+batch_size], \"outcomes\":outcomes[i:i+batch_size]}\n",
    "    return batched_dict"
   ]
  },
  {
   "cell_type": "code",
   "execution_count": 15,
   "metadata": {},
   "outputs": [
    {
     "data": {
      "text/plain": [
       "{'last_interval': '2020-01-02 09:30:00',\n",
       " 'features':                           FB0       FA0       FB2       FA2\n",
       " last_interval                                              \n",
       " 2020-01-02 09:30:00 -0.279873 -0.233347 -0.269437  0.023786\n",
       " 2020-01-02 09:31:00 -0.462780 -0.156346 -0.002077  0.023786\n",
       " 2020-01-02 09:32:00 -0.096967 -0.156346 -0.002077  0.110666\n",
       " 2020-01-02 09:33:00 -0.462780 -0.156346 -0.269437  0.023786\n",
       " 2020-01-02 09:34:00 -0.096967 -0.002345 -0.002077  0.110666\n",
       " ...                       ...       ...       ...       ...\n",
       " 2020-01-02 11:05:00  0.268846  0.074656 -0.002077  0.110666\n",
       " 2020-01-02 11:06:00  0.268846 -0.233347  0.265283  0.023786\n",
       " 2020-01-02 11:07:00 -0.279873 -0.156346 -0.269437  0.023786\n",
       " 2020-01-02 11:08:00 -0.279873 -0.233347 -0.002077 -0.063095\n",
       " 2020-01-02 11:09:00 -0.462780 -0.156346 -2.140955  0.023786\n",
       " \n",
       " [100 rows x 4 columns],\n",
       " 'outcomes': last_interval\n",
       " 2020-01-02 09:30:00   -1\n",
       " 2020-01-02 09:31:00   -1\n",
       " 2020-01-02 09:32:00    1\n",
       " 2020-01-02 09:33:00    1\n",
       " 2020-01-02 09:34:00    1\n",
       "                       ..\n",
       " 2020-01-02 11:05:00   -1\n",
       " 2020-01-02 11:06:00    1\n",
       " 2020-01-02 11:07:00    0\n",
       " 2020-01-02 11:08:00    1\n",
       " 2020-01-02 11:09:00    1\n",
       " Name: outcome, Length: 100, dtype: int64}"
      ]
     },
     "execution_count": 15,
     "metadata": {},
     "output_type": "execute_result"
    }
   ],
   "source": [
    "batched_dict=batch_features(features,outcomes,100)\n",
    "batched_dict[0]"
   ]
  },
  {
   "cell_type": "markdown",
   "metadata": {},
   "source": [
    "### Problem Setup"
   ]
  },
  {
   "cell_type": "markdown",
   "metadata": {},
   "source": [
    "### Idea is we solve the optimization problem in batches (track kernel allocation weight in live)"
   ]
  },
  {
   "cell_type": "code",
   "execution_count": 22,
   "metadata": {},
   "outputs": [],
   "source": [
    "def batch_solve_mkl(X,y,m,batch_size,kernel_type,order,gap=10e-2,inner_tol=10e-3,weight_threshold=0.01,maxouter_iter=100,maxinner_iter=10 ,batch_verbose=True,verbose=True):\n",
    "    \"\"\" Solves the MKL problem for a batch of data\n",
    "    \"\"\"\n",
    "    n=X.shape[0]\n",
    "    batched_dict=batch_features(X,y,batch_size)\n",
    "    batched_estimates=np.zeros((n,m))\n",
    "    for i in range(0,n,batch_size):\n",
    "        weights,kernel=primal_dual_opt(batched_dict[i/batch_size][\"features\"].values,batched_dict[i/batch_size][\"outcomes\"].values,m,kernel_type,order,gap,inner_tol,weight_threshold,maxouter_iter,maxinner_iter ,verbose)\n",
    "        batched_estimates[i,:]=weights\n",
    "        if batch_verbose:\n",
    "            print(\"Batch \",i,\"Last Interval\", batched_dict[i/batch_size][\"last_interval\"], \"complete with weights \",weights)\n",
    "    return batched_estimates"
   ]
  },
  {
   "cell_type": "markdown",
   "metadata": {},
   "source": [
    "### Compare simulated MKL performance across each batch against single kernel performance \n",
    "- Functionality for either gaussian or polynomial basis of kernels"
   ]
  },
  {
   "cell_type": "code",
   "execution_count": 23,
   "metadata": {},
   "outputs": [
    {
     "name": "stdout",
     "output_type": "stream",
     "text": [
      "Batch  0 Last Interval 2020-01-02 09:30:00 complete with weights  [0.33333333 0.33333333 0.33333333]\n",
      "Batch  100 Last Interval 2020-01-02 11:10:00 complete with weights  [0.         0.34140198 0.65859802]\n",
      "Batch  200 Last Interval 2020-01-02 12:50:00 complete with weights  [0.33333333 0.33333333 0.33333333]\n",
      "Batch  300 Last Interval 2020-01-02 14:30:00 complete with weights  [0.33333333 0.33333333 0.33333333]\n",
      "Batch  400 Last Interval 2020-01-02 16:10:00 complete with weights  [0.41189952 0.3135032  0.27459728]\n",
      "Batch  500 Last Interval 2020-01-02 18:25:00 complete with weights  [0.33333333 0.33333333 0.33333333]\n",
      "Batch  600 Last Interval 2020-01-03 10:05:00 complete with weights  [0.33333333 0.33333333 0.33333333]\n",
      "Batch  700 Last Interval 2020-01-03 11:45:00 complete with weights  [0.33333333 0.33333333 0.33333333]\n",
      "Batch  800 Last Interval 2020-01-03 13:25:00 complete with weights  [0.33333333 0.33333333 0.33333333]\n",
      "Batch  900 Last Interval 2020-01-03 15:05:00 complete with weights  [0.         0.31160773 0.68839227]\n",
      "Batch  1000 Last Interval 2020-01-03 16:54:00 complete with weights  [0.         0.29751189 0.70248811]\n",
      "Batch  1100 Last Interval 2020-01-03 19:38:00 complete with weights  [0.33333333 0.33333333 0.33333333]\n",
      "Batch  1200 Last Interval 2020-01-06 10:54:00 complete with weights  [0. 0. 1.]\n",
      "Batch  1300 Last Interval 2020-01-06 12:34:00 complete with weights  [0.33333333 0.33333333 0.33333333]\n",
      "Batch  1400 Last Interval 2020-01-06 14:14:00 complete with weights  [0.33333333 0.33333333 0.33333333]\n",
      "Batch  1500 Last Interval 2020-01-06 15:54:00 complete with weights  [0.29416636 0.30853501 0.39729863]\n",
      "Batch  1600 Last Interval 2020-01-06 18:28:00 complete with weights  [0.29925256 0.30756449 0.39318295]\n",
      "Batch  1700 Last Interval 2020-01-07 10:07:00 complete with weights  [1. 0. 0.]\n",
      "Batch  1800 Last Interval 2020-01-07 11:47:00 complete with weights  [0.33333333 0.33333333 0.33333333]\n",
      "Batch  1900 Last Interval 2020-01-07 13:27:00 complete with weights  [1. 0. 0.]\n",
      "Batch  2000 Last Interval 2020-01-07 15:07:00 complete with weights  [0. 0. 1.]\n",
      "Batch  2100 Last Interval 2020-01-07 16:49:00 complete with weights  [0. 0. 1.]\n",
      "Batch  2200 Last Interval 2020-01-07 19:06:00 complete with weights  [0.33333333 0.33333333 0.33333333]\n",
      "Batch  2300 Last Interval 2020-01-08 10:17:00 complete with weights  [1. 0. 0.]\n",
      "Batch  2400 Last Interval 2020-01-08 11:57:00 complete with weights  [1. 0. 0.]\n",
      "Batch  2500 Last Interval 2020-01-08 13:37:00 complete with weights  [0.         0.43527196 0.56472804]\n",
      "Batch  2600 Last Interval 2020-01-08 15:17:00 complete with weights  [0.29077624 0.30836469 0.40085907]\n",
      "Batch  2700 Last Interval 2020-01-08 17:05:00 complete with weights  [0.         0.39144751 0.60855249]\n",
      "Batch  2800 Last Interval 2020-01-08 19:19:00 complete with weights  [0.         0.32394416 0.67605584]\n",
      "Batch  2900 Last Interval 2020-01-09 10:42:00 complete with weights  [0.33333333 0.33333333 0.33333333]\n",
      "Batch  3000 Last Interval 2020-01-09 12:22:00 complete with weights  [1. 0. 0.]\n",
      "Batch  3100 Last Interval 2020-01-09 14:02:00 complete with weights  [0.        0.4471985 0.5528015]\n",
      "Batch  3200 Last Interval 2020-01-09 15:42:00 complete with weights  [1. 0. 0.]\n"
     ]
    }
   ],
   "source": [
    "batched_estimates=batch_solve_mkl(features,outcomes,3,100,'polynomial',3,verbose=False)"
   ]
  },
  {
   "cell_type": "code",
   "execution_count": null,
   "metadata": {},
   "outputs": [],
   "source": []
  }
 ],
 "metadata": {
  "kernelspec": {
   "display_name": "Python 3.10.4 ('research')",
   "language": "python",
   "name": "python3"
  },
  "language_info": {
   "codemirror_mode": {
    "name": "ipython",
    "version": 3
   },
   "file_extension": ".py",
   "mimetype": "text/x-python",
   "name": "python",
   "nbconvert_exporter": "python",
   "pygments_lexer": "ipython3",
   "version": "3.10.4"
  },
  "orig_nbformat": 4,
  "vscode": {
   "interpreter": {
    "hash": "8fefc22b81b58a95d090389e6427ac7414ba2434182c3be0d4e0279b8ec28ded"
   }
  }
 },
 "nbformat": 4,
 "nbformat_minor": 2
}
