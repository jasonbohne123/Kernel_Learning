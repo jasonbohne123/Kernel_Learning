{
 "cells": [
  {
   "cell_type": "code",
   "execution_count": 16,
   "metadata": {},
   "outputs": [],
   "source": [
    "import numpy as np\n",
    "import pandas as pd\n",
    "import sys\n",
    "sys.path.append('/home/jbohn/jupyter/personal/Kernel_Learning/')\n",
    "from Kernels.mkl_solver import primal_dual_opt\n"
   ]
  },
  {
   "cell_type": "code",
   "execution_count": 17,
   "metadata": {},
   "outputs": [],
   "source": [
    "\n",
    "path='/home/jbohn/jupyter/personal/Kernel_Learning/'\n",
    "labeled_data=pd.read_csv(path+'data/labeled_data.csv')\n",
    "labeled_data.index=labeled_data['last_interval']\n",
    "features=labeled_data[['FB0','FA0','FB2','FA2']]\n",
    "outcomes=labeled_data['outcome']\n",
    "\n"
   ]
  },
  {
   "cell_type": "markdown",
   "metadata": {},
   "source": [
    "### Perform Normalization"
   ]
  },
  {
   "cell_type": "code",
   "execution_count": 18,
   "metadata": {},
   "outputs": [
    {
     "data": {
      "text/plain": [
       "(                          FB0       FA0       FB2       FA2\n",
       " last_interval                                              \n",
       " 2020-01-02 09:30:00 -0.757752 -0.434162 -0.602106  0.062707\n",
       " 2020-01-02 09:31:00 -0.757752 -0.244125 -0.053458  0.062707\n",
       " 2020-01-02 09:32:00 -0.118783 -0.244125 -0.053458  0.212742\n",
       " 2020-01-02 09:33:00 -0.757752 -0.244125 -0.602106  0.062707\n",
       " 2020-01-02 09:34:00 -0.118783  0.135950 -0.053458  0.212742\n",
       " ...                       ...       ...       ...       ...\n",
       " 2020-01-02 15:55:00  0.520187 -0.434162 -0.053458  0.062707\n",
       " 2020-01-02 15:56:00  0.839672 -0.244125 -0.053458 -0.237363\n",
       " 2020-01-02 15:57:00 -0.757752 -0.054088 -0.053458  0.062707\n",
       " 2020-01-02 15:58:00 -0.118783  0.325987 -0.053458 -2.337850\n",
       " 2020-01-02 15:59:00  0.839672 -0.244125  2.689780  0.062707\n",
       " \n",
       " [390 rows x 4 columns],\n",
       " last_interval\n",
       " 2020-01-02 09:30:00   -1\n",
       " 2020-01-02 09:31:00   -1\n",
       " 2020-01-02 09:32:00    1\n",
       " 2020-01-02 09:33:00    1\n",
       " 2020-01-02 09:34:00    1\n",
       "                       ..\n",
       " 2020-01-02 15:55:00   -1\n",
       " 2020-01-02 15:56:00    1\n",
       " 2020-01-02 15:57:00    1\n",
       " 2020-01-02 15:58:00    1\n",
       " 2020-01-02 15:59:00    0\n",
       " Name: outcome, Length: 390, dtype: int64)"
      ]
     },
     "execution_count": 18,
     "metadata": {},
     "output_type": "execute_result"
    }
   ],
   "source": [
    "def normalize_features(features):\n",
    "    return (features-features.mean())/features.std()\n",
    "\n",
    "\n",
    "\n",
    "features=normalize_features(features)\n",
    "\n",
    "features,outcomes"
   ]
  },
  {
   "cell_type": "code",
   "execution_count": 19,
   "metadata": {},
   "outputs": [],
   "source": [
    "def batch_features(features,outcomes,batch_size):\n",
    "    \"\"\" Returns a batch of features and outcomes\n",
    "    \"\"\"\n",
    "    batched_dict={}\n",
    "    for i in range(0,len(features),batch_size):\n",
    "        # save the features and outcomes for each batch; timestamped by last interval \n",
    "        batched_dict[i/batch_size]={\"last_interval\":features.index[i] ,\"features\":features[i:i+batch_size], \"outcomes\":outcomes[i:i+batch_size]}\n",
    "    return batched_dict"
   ]
  },
  {
   "cell_type": "code",
   "execution_count": 20,
   "metadata": {},
   "outputs": [
    {
     "data": {
      "text/plain": [
       "{'last_interval': '2020-01-02 09:30:00',\n",
       " 'features':                           FB0       FA0       FB2       FA2\n",
       " last_interval                                              \n",
       " 2020-01-02 09:30:00 -0.757752 -0.434162 -0.602106  0.062707\n",
       " 2020-01-02 09:31:00 -0.757752 -0.244125 -0.053458  0.062707\n",
       " 2020-01-02 09:32:00 -0.118783 -0.244125 -0.053458  0.212742\n",
       " 2020-01-02 09:33:00 -0.757752 -0.244125 -0.602106  0.062707\n",
       " 2020-01-02 09:34:00 -0.118783  0.135950 -0.053458  0.212742\n",
       " ...                       ...       ...       ...       ...\n",
       " 2020-01-02 11:05:00  0.520187  0.325987 -0.053458  0.212742\n",
       " 2020-01-02 11:06:00  0.520187 -0.434162  0.495190  0.062707\n",
       " 2020-01-02 11:07:00 -0.438268 -0.244125 -0.602106  0.062707\n",
       " 2020-01-02 11:08:00 -0.438268 -0.434162 -0.053458 -0.087328\n",
       " 2020-01-02 11:09:00 -0.757752 -0.244125 -4.442640  0.062707\n",
       " \n",
       " [100 rows x 4 columns],\n",
       " 'outcomes': last_interval\n",
       " 2020-01-02 09:30:00   -1\n",
       " 2020-01-02 09:31:00   -1\n",
       " 2020-01-02 09:32:00    1\n",
       " 2020-01-02 09:33:00    1\n",
       " 2020-01-02 09:34:00    1\n",
       "                       ..\n",
       " 2020-01-02 11:05:00   -1\n",
       " 2020-01-02 11:06:00    1\n",
       " 2020-01-02 11:07:00    0\n",
       " 2020-01-02 11:08:00    1\n",
       " 2020-01-02 11:09:00    1\n",
       " Name: outcome, Length: 100, dtype: int64}"
      ]
     },
     "execution_count": 20,
     "metadata": {},
     "output_type": "execute_result"
    }
   ],
   "source": [
    "batched_dict=batch_features(features,outcomes,100)\n",
    "batched_dict[0]"
   ]
  },
  {
   "cell_type": "markdown",
   "metadata": {},
   "source": [
    "### Problem Setup"
   ]
  },
  {
   "cell_type": "markdown",
   "metadata": {},
   "source": [
    "### Idea is we solve the optimization problem in batches (track kernel allocation weight in live)"
   ]
  },
  {
   "cell_type": "code",
   "execution_count": 21,
   "metadata": {},
   "outputs": [],
   "source": [
    "def batch_solve_mkl(X,y,m,batch_size,kernel_type,order,gap=10e-2,inner_tol=10e-3,weight_threshold=0.01,maxouter_iter=100,maxinner_iter=10 ,batch_verbose=True,verbose=True):\n",
    "    \"\"\" Solves the MKL problem for a batch of data\n",
    "    \"\"\"\n",
    "    n=X.shape[0]\n",
    "    batched_dict=batch_features(X,y,batch_size)\n",
    "    batched_estimates=np.zeros((n,m))\n",
    "    for i in range(0,n,batch_size):\n",
    "        weights,kernel=primal_dual_opt(batched_dict[i/batch_size][\"features\"].values,batched_dict[i/batch_size][\"outcomes\"].values,m,kernel_type,order,gap,inner_tol,weight_threshold,maxouter_iter,maxinner_iter ,verbose)\n",
    "        batched_estimates[i,:]=weights\n",
    "        if batch_verbose:\n",
    "            print(\"Batch \",i,\"Last Interval\", batched_dict[i/batch_size][\"last_interval\"], \"complete with weights \",weights)\n",
    "    return batched_estimates"
   ]
  },
  {
   "cell_type": "markdown",
   "metadata": {},
   "source": [
    "### Compare simulated MKL performance across each batch against single kernel performance \n",
    "- Functionality for either gaussian or polynomial basis of kernels"
   ]
  },
  {
   "cell_type": "code",
   "execution_count": 22,
   "metadata": {},
   "outputs": [
    {
     "name": "stdout",
     "output_type": "stream",
     "text": [
      "Batch  0 Last Interval 2020-01-02 09:30:00 complete with weights  [0.33333333 0.33333333 0.33333333]\n",
      "Batch  100 Last Interval 2020-01-02 11:10:00 complete with weights  [0.         0.33110055 0.66889945]\n",
      "Batch  200 Last Interval 2020-01-02 12:50:00 complete with weights  [0.33333333 0.33333333 0.33333333]\n",
      "Batch  300 Last Interval 2020-01-02 14:30:00 complete with weights  [0.33333333 0.33333333 0.33333333]\n"
     ]
    }
   ],
   "source": [
    "batched_estimates=batch_solve_mkl(features,outcomes,3,100,'polynomial',3,verbose=False)"
   ]
  },
  {
   "cell_type": "code",
   "execution_count": null,
   "metadata": {},
   "outputs": [],
   "source": []
  }
 ],
 "metadata": {
  "kernelspec": {
   "display_name": "Python 3.10.4 ('research')",
   "language": "python",
   "name": "python3"
  },
  "language_info": {
   "codemirror_mode": {
    "name": "ipython",
    "version": 3
   },
   "file_extension": ".py",
   "mimetype": "text/x-python",
   "name": "python",
   "nbconvert_exporter": "python",
   "pygments_lexer": "ipython3",
   "version": "3.10.4"
  },
  "orig_nbformat": 4,
  "vscode": {
   "interpreter": {
    "hash": "8fefc22b81b58a95d090389e6427ac7414ba2434182c3be0d4e0279b8ec28ded"
   }
  }
 },
 "nbformat": 4,
 "nbformat_minor": 2
}
