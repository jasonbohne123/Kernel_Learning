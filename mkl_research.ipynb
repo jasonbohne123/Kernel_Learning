{
 "cells": [
  {
   "cell_type": "markdown",
   "id": "dac85549-0f08-4e48-802b-983850a4f98c",
   "metadata": {},
   "source": [
    "### SimpleMKL Training\n",
    "\n",
    "- In scikit-learn we utilized a single kernel (radial basis function) with cross validated bandwidth (via grid search)\n",
    "\n",
    "- We now want to extend to the case of multiple kernels (linear combination of a basis set)\n",
    "\n",
    "- Inspiration in our original implementation from here \n",
    "\n",
    "     - https://github.com/qintian0321/SimpleMKL_python"
   ]
  },
  {
   "cell_type": "code",
   "execution_count": 1,
   "id": "a1f1b1ae-30b7-4af0-9474-607742e21729",
   "metadata": {},
   "outputs": [],
   "source": [
    "import numpy as np\n",
    "import pandas as pd\n",
    "from sklearn import svm\n",
    "from scipy.spatial import distance_matrix"
   ]
  },
  {
   "cell_type": "markdown",
   "id": "1b577bc2-741c-4017-86a8-d592d53d66af",
   "metadata": {
    "tags": []
   },
   "source": [
    "# SimpleMKL optimization objective\n",
    "\n",
    "### Primal problem \n",
    "\n",
    "\n",
    "### Dual Problem\n",
    "\n",
    "$$\\max_\\alpha \\ \\frac{-1}{2} \\sum_{i,j} \\alpha_i \\alpha_j y_i y_j \\sum_m d_mK_m(x_i,x_j) +\\sum_i \\alpha_i$$\n",
    "\n",
    "s.t. $$\\sum_i \\alpha_i y_i=0$$ and $$C \\geq \\alpha_i \\geq 0$$\n",
    "\n",
    "\n",
    "\n",
    "- Coefficient vector $ \\alpha$ is importance of observed features on classification problem\n",
    "\n",
    "\n"
   ]
  },
  {
   "cell_type": "markdown",
   "id": "ce8bc243-3187-4e66-8dda-a1a2837d2dc9",
   "metadata": {},
   "source": [
    "### Abstract Kernel Class \n",
    "\n",
    "- Define an abstract kernel class wich allows for the computation of polynomial or gaussian kernels of varying order /bandwidth"
   ]
  },
  {
   "cell_type": "code",
   "execution_count": 2,
   "id": "ddddd267-59ac-420c-b85d-a72235090f36",
   "metadata": {},
   "outputs": [],
   "source": [
    "class Kernel():\n",
    "    \"\"\" Abstract method to compute the kernel matrix under gaussian kernel or polynomial kernel\"\"\"\n",
    "    \n",
    "    def __init__(self,kernel_type,order=None,bandwidth=None):\n",
    "        self.kernel_type=kernel_type\n",
    "        self.order=order\n",
    "        self.bandwidth=bandwidth\n",
    "    \n",
    "    def compute_kernel(self,X):\n",
    "        \n",
    "        if self.kernel_type=='linear':\n",
    "            return np.dot(X,X.T)\n",
    "        \n",
    "        \n",
    "        if self.kernel_type=='gaussian':\n",
    "            # Compute the distance matrix which is then numerically transformed to gaussian kernel\n",
    "            scale=distance_matrix(X,X,p=2)\n",
    "            return np.exp(-0.5*self.bandwidth*(scale**2))\n",
    "        \n",
    "        if self.kernel_type=='polynomial':\n",
    "            return np.dot(X,X.T)**self.order\n",
    "        "
   ]
  },
  {
   "cell_type": "markdown",
   "id": "4fa7a5cd",
   "metadata": {},
   "source": [
    "### Compose a linear combination of Kernel Matrices\n"
   ]
  },
  {
   "cell_type": "code",
   "execution_count": 3,
   "id": "04078d7f",
   "metadata": {},
   "outputs": [],
   "source": [
    "def compose_kernels(X,kernel_list,weights):\n",
    "    \"\"\" Compute positive linear combination of kernels \n",
    "    \"\"\"\n",
    "    return np.sum(np.array([weights[ct]*k_i.compute_kernel(X) for ct,k_i in enumerate(kernel_list)]),axis=0)"
   ]
  },
  {
   "cell_type": "markdown",
   "id": "5ef18ca4-aa65-4a31-abe8-45f3e4ad44b5",
   "metadata": {},
   "source": [
    "### Functions for Multiple Kernel Optimization\n",
    "\n",
    "- Objective is Optimized via Gradient Descent\n",
    "- Main functionality required\n",
    "\n",
    "### Compute Dual objective and Duality Gap"
   ]
  },
  {
   "cell_type": "code",
   "execution_count": 4,
   "id": "b9d6c292",
   "metadata": {},
   "outputs": [],
   "source": [
    "def compute_dual(X,y,kernel_list,d_m,constant,compute_gap=True):\n",
    "    \"\"\" Compute dual objective value for single SVM\n",
    "    \"\"\"\n",
    "    kernel=compose_kernels(X,kernel_list,d_m)\n",
    "    single_kernel=svm.SVC(C=constant,kernel='precomputed')\n",
    "    single_kernel.fit(kernel,y)\n",
    "    \n",
    "    alpha=np.empty(len(y))\n",
    "    alpha[single_kernel.support_]=np.abs(single_kernel.dual_coef_[0]) \n",
    "    alpha[alpha==None]=0\n",
    "\n",
    "    y_outer=np.outer(y,y)\n",
    "    \n",
    "    J=-0.5*np.dot(np.dot(alpha,np.multiply(y_outer,kernel)),alpha.T)+np.sum(alpha)\n",
    "    \n",
    "    if compute_gap:\n",
    "        kernel_eval=[np.dot(np.dot(alpha,np.multiply(y_outer,k_i.compute_kernel(X))),alpha.T) for k_i in kernel_list]\n",
    "        duality_gap=J-np.sum(alpha)+0.5*np.max(kernel_eval)\n",
    "        \n",
    "        return J,duality_gap,alpha\n",
    "    \n",
    "    return J"
   ]
  },
  {
   "cell_type": "markdown",
   "id": "a3e1606f",
   "metadata": {},
   "source": [
    "### Compute the Gradient with respect to kernel weight vector $d_M$"
   ]
  },
  {
   "cell_type": "code",
   "execution_count": 5,
   "id": "437ffeef",
   "metadata": {},
   "outputs": [],
   "source": [
    "def compute_gradient(kernel,X,y_outer,alpha):\n",
    "    \"\"\" Compute gradient of MKL objective closed form ; vector\n",
    "    \"\"\"\n",
    "    kernel_mat=kernel.compute_kernel(X)\n",
    "    gradient_obj=-0.5*np.dot(np.dot(alpha,np.multiply(y_outer,kernel_mat)),alpha.T)\n",
    "    \n",
    "    return gradient_obj"
   ]
  },
  {
   "cell_type": "markdown",
   "id": "8dbaf237",
   "metadata": {},
   "source": [
    "### Compute Direction of Descent respecting equality conditions\n",
    "- Most optimal direction might violate normality and nonnegative conditons"
   ]
  },
  {
   "cell_type": "code",
   "execution_count": 6,
   "id": "b76c30a6",
   "metadata": {},
   "outputs": [],
   "source": [
    "def descent_direction(d_m,mu,gradient_j,grad_mu):\n",
    "    \"\"\" Compute direction of gradient descent ; vector \n",
    "    \"\"\"\n",
    "    n=len(d_m)\n",
    "    D=np.zeros(n)\n",
    "    ongoing_sum=0\n",
    "    for index in range(0,n):\n",
    "        if d_m[index]==0 and gradient_j[index]-grad_mu>0:\n",
    "            D[index]=0\n",
    "    \n",
    "        elif d_m[index]>0 and index!=mu:\n",
    "            \n",
    "            grad_m=-gradient_j[index]+grad_mu\n",
    "            D[index]=grad_m\n",
    "            ongoing_sum+=grad_m  \n",
    "        \n",
    "        else:\n",
    "            D[index]=0\n",
    "         \n",
    "    D[mu]=-ongoing_sum\n",
    "\n",
    "    return D"
   ]
  },
  {
   "cell_type": "markdown",
   "id": "b12a234c",
   "metadata": {},
   "source": [
    "### Line Search for Optimal Step Size $gamma_{max}$"
   ]
  },
  {
   "cell_type": "code",
   "execution_count": 7,
   "id": "938bfb19",
   "metadata": {},
   "outputs": [],
   "source": [
    "def line_search(X,y,kernel_list,D,d_m,gamma_max,disc):\n",
    "    \"\"\" Selects step size to minimize obj value;  \n",
    "    \n",
    "        Update from heuristic to exact Armijo's rule \n",
    "    \"\"\"\n",
    "\n",
    "    if gamma_max==0:\n",
    "        return gamma_max\n",
    "    \n",
    "    # grid of step size begins bigger than 0\n",
    "    grid=np.arange(0+gamma_max/disc,gamma_max,gamma_max/disc)\n",
    "    \n",
    "    min_gamma,min_obj_val=None,10e8\n",
    "    for gamma_i in grid:\n",
    "        d_i=d_m+gamma_i*D\n",
    "        dual_obj_val=compute_dual(X,y,kernel_list,d_i,constant=100,compute_gap=False)\n",
    "        \n",
    "        if abs(dual_obj_val)<abs(min_obj_val):\n",
    "            min_obj_val=dual_obj_val\n",
    "            min_gamma=gamma_i\n",
    "        \n",
    "    \n",
    "    return min_gamma"
   ]
  },
  {
   "cell_type": "markdown",
   "id": "8aff9dd6",
   "metadata": {},
   "source": [
    "### Main Primal-Dual Method"
   ]
  },
  {
   "cell_type": "code",
   "execution_count": 10,
   "id": "01c5bd8f-769f-44dd-b990-e9e644835f01",
   "metadata": {},
   "outputs": [],
   "source": [
    "def primal_dual_opt(X,y,m,kernel_type,order,gap=10e-4,inner_tol=10e-1,weight_threshold=0.01,maxouter_iter=100,maxinner_iter=10 ,verbose=True,identical=False):\n",
    "    \"\"\" Computes the optimal weights for the MKL objective using primal dual method\n",
    "    \"\"\"\n",
    "    \n",
    "    duality_gap=1 # initialize duality gap\n",
    "    C=0.01 # penalty constant for SVM\n",
    "    y_outer=np.outer(y,y) # outer product of y for efficiency\n",
    "    counter=0\n",
    "    d_m=np.ones(m)/m # initialize weights\n",
    "    D=np.ones(m) # initialize descent direction\n",
    "    mu=0 # initialize index of weight to be updated\n",
    "    line_search_steps=25 # number of steps for line search\n",
    "    gamma_max=0 # initialize step size\n",
    "    \n",
    "    # initialize kernel types\n",
    "    if kernel_type=='linear':\n",
    "        if not identical:\n",
    "            kernel_list=[Kernel(kernel_type=kernel_type,order=1)for i in range(1,order+1) ]\n",
    "        else:\n",
    "            kernel_list=[Kernel(kernel_type=kernel_type,order=1)for i in range(0,order+1) ]\n",
    "    elif kernel_type=='polynomial':\n",
    "        if not identical:\n",
    "            kernel_list=[Kernel(kernel_type=kernel_type,order=i)for i in range(1,order+1) ]\n",
    "        else:\n",
    "            kernel_list=[Kernel(kernel_type,1) for i in range(1,order+1)]\n",
    "    elif kernel_type=='gaussian':\n",
    "        if not identical:\n",
    "            kernel_list=[Kernel(kernel_type,bandwidth=i) for i in np.linspace(0.1,1,m)] # gamma hyperparam\n",
    "        else:\n",
    "            kernel_list=[Kernel(kernel_type,bandwidth=0.5) for i in range(0,m)] \n",
    "\n",
    "    else:\n",
    "        print(\"Not Valid Kernel Type\")\n",
    "        return\n",
    "    \n",
    "    # stopping criteria is duality gap\n",
    "    while duality_gap>gap and gap>0:\n",
    "        if counter>maxouter_iter:\n",
    "            break\n",
    "        counter+=1\n",
    "\n",
    "        # compute svm objective\n",
    "        J_d,duality_gap,alpha=compute_dual(X,y,kernel_list,d_m,C) \n",
    "        if verbose:\n",
    "            print(\"Duality\",duality_gap)\n",
    "\n",
    "        # gradient wrt each kernel\n",
    "        gradient_j=[compute_gradient(i,X,y_outer,alpha) for i in kernel_list] \n",
    "        if verbose:\n",
    "            print(\"Gradient is \",gradient_j)\n",
    "   \n",
    "\n",
    "        # max element within d vector\n",
    "        mu=np.argmax(d_m)\n",
    "        grad_mu=gradient_j[mu]\n",
    "        \n",
    "        # computes normalized descent direction ; satisfies equality constraints \n",
    "        D=descent_direction(d_m,mu,gradient_j,grad_mu)\n",
    "        norm_D=np.sqrt(D.dot(D))\n",
    "        if norm_D==0.0:\n",
    "            break\n",
    "        D=D/norm_D\n",
    "        if verbose:\n",
    "            print(\"Descent Direction is \",D)\n",
    "        \n",
    "        # init descent direction update\n",
    "        J_hat=0\n",
    "        d_hat=d_m\n",
    "        D_hat=D\n",
    "        inner_iter=0\n",
    "        \n",
    "        ### Investigate zero gamma step size\n",
    "        gamma_list=[]\n",
    "\n",
    "        while J_hat+inner_tol<J_d or inner_iter<maxinner_iter:\n",
    "            inner_iter+=1 \n",
    "            \n",
    "            # indices where descent direction is negative, \n",
    "            # if none reached local max, else update by gamma step\n",
    "            nonzero_D=np.where(D_hat<0)[0]\n",
    "            if len(nonzero_D)==0:\n",
    "                gamma_max=0  \n",
    "            else:\n",
    "                gamma_max=np.min(-d_hat[nonzero_D]/D_hat[nonzero_D])\n",
    "\n",
    "            gamma_list.append(gamma_max)\n",
    "            D=D_hat\n",
    "            d_m=d_hat\n",
    "            d_hat=d_m+gamma_max*D\n",
    "            d_hat[d_hat<weight_threshold]=0\n",
    "                \n",
    "            D_hat[mu]=descent_direction(d_hat,mu,gradient_j,grad_mu)[mu]\n",
    "            J_hat=compute_dual(X,y,kernel_list,d_hat,C,compute_gap=False)\n",
    "            \n",
    "        # line search in descent direction\n",
    "        gamma_max=np.max(gamma_list)  \n",
    "        gamma_step=line_search(X,y,kernel_list,D,d_m,gamma_max,disc=line_search_steps)\n",
    "        \n",
    "       \n",
    "        d_m=(d_m+gamma_step*D)\n",
    "        if verbose:\n",
    "            print(\"Gamma Max is \",gamma_max)\n",
    "            print(\"Gamma Step is \",gamma_step)\n",
    "        \n",
    "        # normalize and drop threshold\n",
    "        d_m[d_m<weight_threshold]=0\n",
    "        d_m=d_m/np.sum(d_m)\n",
    "        \n",
    "        if verbose:\n",
    "            print(\"Weights are \",d_m)\n",
    "       \n",
    "    if abs(duality_gap)<gap:\n",
    "            print(\"Duality Gap Reached of \",duality_gap)\n",
    "            return d_m,kernel_list\n",
    "    else:\n",
    "        print(\"Max Iterations Reached\")\n",
    "        return d_m,kernel_list\n",
    "    "
   ]
  },
  {
   "cell_type": "markdown",
   "id": "e50e13da",
   "metadata": {},
   "source": [
    "### Form optimal Kernel as a linear combination of multiple kernels"
   ]
  },
  {
   "cell_type": "code",
   "execution_count": 11,
   "id": "dcc595a2",
   "metadata": {},
   "outputs": [],
   "source": [
    "def form_optimal_svm(kernel_list,d_m,X,y):\n",
    "    \"\"\" Forms optimal SVM from optimal weights and kernels\n",
    "    \"\"\"\n",
    "    # compute optimal kernel\n",
    "    K=np.zeros((X.shape[0],X.shape[0]))\n",
    "    for i in range(len(kernel_list)):\n",
    "        K+=d_m[i]*kernel_list[i].compute_kernel(X)\n",
    "    \n",
    "    # fit svm\n",
    "    clf=svm.SVC(kernel='precomputed')\n",
    "    clf.fit(K,y)\n",
    "    return clf,K"
   ]
  },
  {
   "cell_type": "markdown",
   "id": "577ed14f",
   "metadata": {},
   "source": [
    "### Test MKL Function on simulated Data"
   ]
  },
  {
   "cell_type": "code",
   "execution_count": 12,
   "id": "18d90af1-4d44-4e24-9f53-1d3aa4fcade4",
   "metadata": {},
   "outputs": [],
   "source": [
    "def test_mkl(kernel_type,m,verbose=True,identical=False):\n",
    "    \n",
    "    n=200# data set size\n",
    "    y=np.sign(np.random.uniform(-1,1,size=n)) # sample class labels 1,-1\n",
    "    x=np.random.rand(n,5) # # sample features\n",
    "\n",
    "  \n",
    "    d_m,kernel_list=primal_dual_opt(x,y,m,kernel_type,order=m,verbose=verbose,identical=identical)\n",
    "    \n",
    "    print(\"Optimal Weights are \",np.round(d_m,2))\n",
    "\n",
    "    optimal_svm,K_composed=form_optimal_svm(kernel_list,d_m,x,y)\n",
    "    \n",
    "    # compute accuracy\n",
    "    print(\"In Sample Accuracy is \",optimal_svm.score(K_composed,y))\n"
   ]
  },
  {
   "cell_type": "markdown",
   "id": "b7ada27a",
   "metadata": {},
   "source": [
    "### Basis of polynomial kernels "
   ]
  },
  {
   "cell_type": "code",
   "execution_count": 20,
   "id": "0f336472",
   "metadata": {},
   "outputs": [
    {
     "name": "stdout",
     "output_type": "stream",
     "text": [
      "Duality 0.006895357785373025\n",
      "Gradient is  [-0.0007404571599560138, -0.0009794684436128655, -0.002406880956647971, -0.010569412567236248]\n",
      "Descent Direction is  [-0.76200814  0.01552092  0.10821427  0.63827295]\n",
      "Gamma Max is  0.3280804832919606\n",
      "Gamma Step is  0.3149572639602822\n",
      "Weights are  [0.         0.20966172 0.25773053 0.53260774]\n",
      "Duality 0.0038932042898893564\n",
      "Gradient is  [-0.0009157653804391447, -0.0012227702617982666, -0.002550602208026337, -0.010284595875801977]\n",
      "Descent Direction is  [ 0.         -0.44006513 -0.37558226  0.81564738]\n",
      "Gamma Max is  0.4764333986922114\n",
      "Gamma Step is  0.019057335947688457\n",
      "Weights are  [0.         0.         0.07213871 0.92786129]\n",
      "Duality 0.0005370455192934692\n",
      "Gradient is  [-0.001050778855394122, -0.0014429284073365052, -0.0027452598263441427, -0.01018988286676216]\n",
      "Descent Direction is  [ 0.          0.         -0.70710678  0.70710678]\n",
      "Gamma Max is  0.10201954523060956\n",
      "Gamma Step is  0.008161563618448765\n",
      "Weights are  [0. 0. 0. 1.]\n",
      "Duality Gap Reached of  0.0005370455192934692\n",
      "Optimal Weights are  [0. 0. 0. 1.]\n",
      "In Sample Accuracy is  0.65\n"
     ]
    }
   ],
   "source": [
    "test_mkl(\"polynomial\",m=4)"
   ]
  },
  {
   "cell_type": "code",
   "execution_count": 21,
   "id": "9fff36ac",
   "metadata": {},
   "outputs": [
    {
     "name": "stdout",
     "output_type": "stream",
     "text": [
      "Duality 0.0\n",
      "Gradient is  [-12.90617657798856, -12.90617657798856, -12.90617657798856, -12.90617657798856]\n",
      "Duality Gap Reached of  0.0\n",
      "Optimal Weights are  [0.25 0.25 0.25 0.25]\n",
      "In Sample Accuracy is  0.585\n"
     ]
    }
   ],
   "source": [
    "test_mkl(\"polynomial\",m=4,identical=True)"
   ]
  },
  {
   "cell_type": "markdown",
   "id": "4731ef33",
   "metadata": {},
   "source": [
    "### Basis of Gaussian Kernels"
   ]
  },
  {
   "cell_type": "code",
   "execution_count": 23,
   "id": "06c31006",
   "metadata": {},
   "outputs": [
    {
     "name": "stdout",
     "output_type": "stream",
     "text": [
      "Duality 0.00044077404046556255\n",
      "Gradient is  [-4.9225573746627144e-05, -0.0001958933154698226, -0.00038531749173899326, -0.0006094432719425168, -0.0008609374638065094]\n",
      "Descent Direction is  [-0.86977264  0.06878111  0.15761323  0.26271896  0.38065934]\n",
      "Gamma Max is  0.22994515014404662\n",
      "Gamma Step is  0.22074734413828476\n",
      "Weights are  [0.         0.19379122 0.22737844 0.26711868 0.31171167]\n",
      "Duality Gap Reached of  0.00044077404046556255\n",
      "Optimal Weights are  [0.   0.19 0.23 0.27 0.31]\n",
      "In Sample Accuracy is  0.58\n"
     ]
    }
   ],
   "source": [
    "test_mkl(\"gaussian\",m=5)"
   ]
  },
  {
   "cell_type": "code",
   "execution_count": 24,
   "id": "134fb067",
   "metadata": {},
   "outputs": [
    {
     "name": "stdout",
     "output_type": "stream",
     "text": [
      "Duality 7.134050294954619e-17\n",
      "Gradient is  [-9.941018267019459e-05, -9.941018267019459e-05, -9.941018267019459e-05, -9.941018267019459e-05, -9.941018267019459e-05]\n",
      "Duality Gap Reached of  7.134050294954619e-17\n",
      "Optimal Weights are  [0.2 0.2 0.2 0.2 0.2]\n",
      "In Sample Accuracy is  0.545\n"
     ]
    }
   ],
   "source": [
    "test_mkl(\"gaussian\",m=5,identical=True)"
   ]
  },
  {
   "cell_type": "markdown",
   "id": "b632aa83",
   "metadata": {},
   "source": [
    "### Main Results Learned\n",
    "\n",
    "- Dual objective and differential are similar as objective is linear in d\n",
    "- Curse of dimensionality; as we increase basis size of kernels; optimizer is increasingly slow\n",
    "- Gradient will be negative as we are performing gradient descent\n",
    "- Actual descent direction might be positive to respect equality constraints \n",
    "- Choose Gamma Step as a line search between potential values within [0, GammaMax]\n",
    "\n"
   ]
  }
 ],
 "metadata": {
  "kernelspec": {
   "display_name": "Python 3.10.4 ('research')",
   "language": "python",
   "name": "python3"
  },
  "language_info": {
   "codemirror_mode": {
    "name": "ipython",
    "version": 3
   },
   "file_extension": ".py",
   "mimetype": "text/x-python",
   "name": "python",
   "nbconvert_exporter": "python",
   "pygments_lexer": "ipython3",
   "version": "3.10.4"
  },
  "vscode": {
   "interpreter": {
    "hash": "8fefc22b81b58a95d090389e6427ac7414ba2434182c3be0d4e0279b8ec28ded"
   }
  }
 },
 "nbformat": 4,
 "nbformat_minor": 5
}
