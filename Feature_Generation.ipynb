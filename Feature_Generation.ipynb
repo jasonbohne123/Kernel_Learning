{
 "cells": [
  {
   "cell_type": "markdown",
   "id": "319580e0-bbe3-4632-9f02-b03f776b927e",
   "metadata": {},
   "source": [
    "### Generate Features off the LOB for the Paper\n",
    "\n",
    "\n",
    "Plot the distribution of features; analyze correlations and sampling across time"
   ]
  },
  {
   "cell_type": "code",
   "execution_count": null,
   "id": "80c49935-2804-46b2-b589-fe3d38f8df32",
   "metadata": {},
   "outputs": [],
   "source": []
  }
 ],
 "metadata": {
  "kernelspec": {
   "display_name": "Python [conda env:research]",
   "language": "python",
   "name": "conda-env-research-py"
  },
  "language_info": {
   "codemirror_mode": {
    "name": "ipython",
    "version": 3
   },
   "file_extension": ".py",
   "mimetype": "text/x-python",
   "name": "python",
   "nbconvert_exporter": "python",
   "pygments_lexer": "ipython3",
   "version": "3.7.12"
  }
 },
 "nbformat": 4,
 "nbformat_minor": 5
}
