{
 "cells": [
  {
   "cell_type": "markdown",
   "id": "dac85549-0f08-4e48-802b-983850a4f98c",
   "metadata": {},
   "source": [
    "### SimpleMKL Training\n",
    "\n",
    "- In scikit-learn we utilized a single kernel (radial basis function) with cross validated bandwidth (via grid search)\n",
    "\n",
    "- We now want to extend to the case of multiple kernels (linear combination of a basis set)\n",
    "\n",
    "- Inspiration in our original implementation from here \n",
    "\n",
    "     - https://github.com/qintian0321/SimpleMKL_python"
   ]
  },
  {
   "cell_type": "code",
   "execution_count": 2,
   "id": "a1f1b1ae-30b7-4af0-9474-607742e21729",
   "metadata": {},
   "outputs": [],
   "source": [
    "import numpy as np\n",
    "import pandas as pd\n",
    "from sklearn import svm"
   ]
  },
  {
   "cell_type": "code",
   "execution_count": 4,
   "id": "e32c7a0b-e4e2-4a5a-9589-20d79f6600a5",
   "metadata": {},
   "outputs": [
    {
     "data": {
      "text/plain": [
       "array([5.e-324, 2.e-323, 5.e-324])"
      ]
     },
     "execution_count": 4,
     "metadata": {},
     "output_type": "execute_result"
    }
   ],
   "source": [
    "np.empty(3)"
   ]
  },
  {
   "cell_type": "markdown",
   "id": "1b577bc2-741c-4017-86a8-d592d53d66af",
   "metadata": {
    "tags": []
   },
   "source": [
    "# SimpleMKL optimization objective\n",
    "\n",
    "### Primal problem \n",
    "\n",
    "\n",
    "### Dual Problem\n",
    "\n",
    "$$\\max_\\alpha \\ \\frac{-1}{2} \\sum_{i,j} \\alpha_i \\alpha_j y_i y_j \\sum_m d_mK_m(x_i,x_j) +\\sum_i \\alpha_i$$\n",
    "\n",
    "s.t. $$\\sum_i \\alpha_i y_i=0$$ and $$C \\geq \\alpha_i \\geq 0$$\n",
    "\n",
    "\n",
    "\n",
    "- Coefficient vector $ \\alpha$ is importance of observed features on classification problem\n",
    "\n",
    "\n"
   ]
  },
  {
   "cell_type": "code",
   "execution_count": 39,
   "id": "01c5bd8f-769f-44dd-b990-e9e644835f01",
   "metadata": {},
   "outputs": [],
   "source": [
    "def compute_kernel(x,y):\n",
    "    ''' Linear kernel between two vectors \n",
    "    '''\n",
    "    return np.dot(x.T,y)\n",
    "\n",
    "\n",
    "\n",
    "def compute_dual(X,y,constant,kernel_type='linear'):\n",
    "    \n",
    "\n",
    "    single_kernel=svm.SVC(C=constant,kernel='precomputed')\n",
    "    K=np.dot(X,X.T)\n",
    "    \n",
    "    \n",
    "    single_kernel.fit(K,y)\n",
    "    \n",
    "    alphas=np.empty(len(y))\n",
    "    alphas[single_kernel.support_]=np.abs(single_kernel.dual_coef_[0]) # need to investigate why this \n",
    "    alphas[alphas==None]=0\n",
    "    \n",
    "    \n",
    "    J=-0.5*np.dot(np.dot(alphas,K*y),alphas.T)+np.sum(alphas)\n",
    "    \n",
    "    return J\n",
    "    \n",
    "def compute_gradient(kernel,alpha):\n",
    "    \n",
    "\n",
    "def descent_direction():\n",
    "    pass\n",
    "\n",
    "def primal_dual_opt(X,y,m,gap=10e-4):\n",
    "    ''' X feature set, y are class outcomes\n",
    "        d_m is weight vector  on kernels, alpha is coefficient vector\n",
    "    '''\n",
    "    \n",
    "    error=1\n",
    "    C=1\n",
    "    n=len(y)\n",
    "    d_m=np.ones(m)/m\n",
    "    \n",
    "    kernel_list=np.empty(m)\n",
    "    alpha=np.zeros(n)\n",
    "    \n",
    "    while abs(error)>gap:\n",
    "        J_d=compute_dual(X,y,C)\n",
    "        gradient_j=[compute_gradient(i,alpha) for i in kernel_list]\n",
    "        \n",
    "        "
   ]
  },
  {
   "cell_type": "code",
   "execution_count": 1,
   "id": "aea27525-f50f-485c-9c3b-7faf0a05b4b6",
   "metadata": {},
   "outputs": [
    {
     "ename": "NameError",
     "evalue": "name 'np' is not defined",
     "output_type": "error",
     "traceback": [
      "\u001b[0;31m---------------------------------------------------------------------------\u001b[0m",
      "\u001b[0;31mNameError\u001b[0m                                 Traceback (most recent call last)",
      "Input \u001b[0;32mIn [1]\u001b[0m, in \u001b[0;36m<cell line: 1>\u001b[0;34m()\u001b[0m\n\u001b[0;32m----> 1\u001b[0m \u001b[43mnp\u001b[49m\n",
      "\u001b[0;31mNameError\u001b[0m: name 'np' is not defined"
     ]
    }
   ],
   "source": [
    "np"
   ]
  },
  {
   "cell_type": "code",
   "execution_count": 40,
   "id": "bb1f7d91-bd78-4c12-883e-d17e4f149ba3",
   "metadata": {},
   "outputs": [
    {
     "name": "stdout",
     "output_type": "stream",
     "text": [
      "[ 1.         10.          1.          1.          1.          3.14167225\n",
      " 10.          1.         10.          7.42038466  2.65391819 10.\n",
      "  1.         10.         10.         10.         10.          1.\n",
      " 10.         10.         10.          0.         10.          4.97273929\n",
      " 10.          1.          0.          0.         10.         10.\n",
      " 10.         10.          6.41105987  1.          1.         10.\n",
      " 10.         10.          9.09618383 10.         10.          4.5435113\n",
      " 10.          5.78186913  1.          1.         10.         10.\n",
      "  1.          0.39985221] (50,)\n"
     ]
    },
    {
     "data": {
      "text/plain": [
       "-58830.61878588754"
      ]
     },
     "execution_count": 40,
     "metadata": {},
     "output_type": "execute_result"
    }
   ],
   "source": [
    "y=np.round(np.random.rand(50)) # observed data ; round to 0 or 1\n",
    "x=np.random.rand(50,10)\n",
    "\n",
    "compute_j(x,y,10)"
   ]
  },
  {
   "cell_type": "code",
   "execution_count": 71,
   "id": "cf8aefd4-1421-43ba-93b9-271de81e28d4",
   "metadata": {},
   "outputs": [
    {
     "data": {
      "text/plain": [
       "(50,)"
      ]
     },
     "execution_count": 71,
     "metadata": {},
     "output_type": "execute_result"
    }
   ],
   "source": [
    "y.shape"
   ]
  },
  {
   "cell_type": "code",
   "execution_count": 62,
   "id": "9409e9e4-377b-4fb8-8ae1-ce28c71bb238",
   "metadata": {},
   "outputs": [
    {
     "name": "stdout",
     "output_type": "stream",
     "text": [
      "[[-0.49101951 -0.49175009 -0.34452341  0.21553949  0.33501756  0.32709077\n",
      "   0.29396225  0.01010487  0.14557808]]\n"
     ]
    }
   ],
   "source": [
    "class kernel_function():\n",
    "    def __init__(self,kernel_type):\n",
    "        self.kernel_type=kernel_type\n",
    "        \n",
    "    def compute_kernel(self):\n",
    "        \n",
    "        if self.kernel_type=='identity':\n",
    "            return 1\n",
    "# callable kernel matrix \n",
    "kernel_matrix= np.empty( (len(y),1), dtype=object)\n",
    "kernel_matrix=np.array([kernel_function('identity').compute_kernel() for i_j in kernel_matrix.flat])\n"
   ]
  },
  {
   "cell_type": "code",
   "execution_count": null,
   "id": "18d90af1-4d44-4e24-9f53-1d3aa4fcade4",
   "metadata": {},
   "outputs": [],
   "source": []
  }
 ],
 "metadata": {
  "kernelspec": {
   "display_name": "Python [conda env:research]",
   "language": "python",
   "name": "conda-env-research-py"
  },
  "language_info": {
   "codemirror_mode": {
    "name": "ipython",
    "version": 3
   },
   "file_extension": ".py",
   "mimetype": "text/x-python",
   "name": "python",
   "nbconvert_exporter": "python",
   "pygments_lexer": "ipython3",
   "version": "3.10.4"
  }
 },
 "nbformat": 4,
 "nbformat_minor": 5
}
