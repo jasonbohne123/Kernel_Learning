{
  "nbformat": 4,
  "nbformat_minor": 0,
  "metadata": {
    "colab": {
      "provenance": []
    },
    "kernelspec": {
      "name": "python3",
      "display_name": "Python 3"
    },
    "language_info": {
      "name": "python"
    }
  },
  "cells": [
    {
      "cell_type": "code",
      "execution_count": 1,
      "metadata": {
        "id": "yg8Foma1sjg_"
      },
      "outputs": [],
      "source": [
        "import pandas as pd\n",
        "import sys\n",
        "import pandas as pd\n",
        "import numpy as np\n",
        "from datetime import datetime\n",
        "import matplotlib.pyplot as plt\n",
        "import statistics\n",
        "import math \n",
        "from itertools import repeat\n",
        "from collections import Counter"
      ]
    },
    {
      "cell_type": "code",
      "source": [
        "def genNewFeatures(data):\n",
        "\n",
        "  temp = data\n",
        "\n",
        "  temp = getSpread(temp)\n",
        "  temp = getAWS(temp)\n",
        "  temp = anomalyDetect(temp)\n",
        "  temp = spreadChange(temp)\n",
        "  temp = imbalance(temp)\n",
        "  temp = VPIN(temp).drop(columns = 'Bucket #')\n",
        "\n",
        "  return temp"
      ],
      "metadata": {
        "id": "1JynAvVhs1er"
      },
      "execution_count": 2,
      "outputs": []
    },
    {
      "cell_type": "code",
      "source": [
        "def getSpread(data):\n",
        "\n",
        "  data['Spread'] = data['Best_Offer_Price'] - data['Best_Bid_Price']\n",
        "  return data"
      ],
      "metadata": {
        "id": "lRduJ9HV0cbF"
      },
      "execution_count": 3,
      "outputs": []
    },
    {
      "cell_type": "code",
      "source": [
        "\n",
        "def getAWS(data,time = \"minutes\"):\n",
        "\n",
        "    if time == \"minutes\":\n",
        "      n = 5\n",
        "    else:\n",
        "      n = 300 # seconds\n",
        "\n",
        "    # Input quote data and n, the number of look back minutes\n",
        "\n",
        "    TBCS = []\n",
        "    # Get consolidated bid size for past 'n' minutes\n",
        "    for i in range(0,len(data)):\n",
        "      if i < n:\n",
        "        sum = int(data.loc[0:i,['FB0']].sum())\n",
        "      else:\n",
        "        sum = int(data.loc[i-n:i,['FB0']].sum())\n",
        "      TBCS.append(sum)\n",
        "    \n",
        "    TACS = []\n",
        "    # Get consolidated ask size for past 'n' minutes\n",
        "    for i in range(0,len(data)):\n",
        "      if i < n:\n",
        "        sum = int(data.loc[0:i,['FA0']].sum())\n",
        "      else:\n",
        "        sum = int(data.loc[i-n:i,['FA0']].sum())\n",
        "      TACS.append(sum)\n",
        "\n",
        "    WBP = []\n",
        "    WAP = []\n",
        "    # Get weighted bid price and weighted ask price \n",
        "    for i in range(0,len(TBCS)):\n",
        "      if i < n:\n",
        "        CBS = data.loc[0:i,['FB0']] # vol\n",
        "        BP = data.loc[0:i,['Best_Bid_Price']] # price\n",
        "        CBS = CBS.FB0.tolist()\n",
        "        BP = BP.Best_Bid_Price.tolist()\n",
        "\n",
        "        ABS = data.loc[0:i,['FA0']] # vol\n",
        "        AP = data.loc[0:i,['Best_Offer_Price']] # price\n",
        "        ABS = ABS.FA0.tolist()\n",
        "        AP = AP.Best_Offer_Price.tolist()\n",
        "\n",
        "      else: \n",
        "\n",
        "        CBS = data.loc[i-n:i,['FB0']] # vol\n",
        "        BP = data.loc[i-n:i,['Best_Bid_Price']] # price\n",
        "        CBS = CBS.FB0.tolist()\n",
        "        BP = BP.Best_Bid_Price.tolist()\n",
        "\n",
        "        ABS = data.loc[i-n:i,['FA0']] # vol\n",
        "        AP = data.loc[i-n:i,['Best_Offer_Price']] # price\n",
        "        ABS = ABS.FA0.tolist()\n",
        "        AP = AP.Best_Offer_Price.tolist()\n",
        "\n",
        "      wbp = np.dot(CBS,BP)/ TBCS[i]\n",
        "      WBP.append(wbp)\n",
        "\n",
        "      wap = np.dot(ABS,AP)/ TACS[i]\n",
        "      WAP.append(wap)\n",
        "\n",
        "    AWS = [WAP[i] - WBP[i] for i in range(0,len(WAP))]\n",
        "\n",
        "    data['AWS'] = AWS\n",
        "    return data\n"
      ],
      "metadata": {
        "id": "c3jNJdxq0cs8"
      },
      "execution_count": 4,
      "outputs": []
    },
    {
      "cell_type": "code",
      "source": [
        "def anomalyDetect(data,time = \"minutes\"):\n",
        "\n",
        "    if time == \"minutes\":\n",
        "      n = 10\n",
        "    else: \n",
        "      n = 600 # 600 seconds = 10 minutes\n",
        "\n",
        "    anom = []\n",
        "\n",
        "    for i in range(0,len(data)):\n",
        "\n",
        "      if i < n: \n",
        "        nums = data.loc[0:i,['AWS']]\n",
        "        nums = nums.AWS.tolist() \n",
        "        mean = np.mean(nums)\n",
        "        std = np.std(nums)\n",
        "        size = i+1\n",
        "\n",
        "      else: \n",
        "        nums = data.loc[i-n:i,['AWS']]\n",
        "        nums = nums.AWS.tolist() \n",
        "        mean = np.mean(nums)\n",
        "        std = np.std(nums)\n",
        "        size = n\n",
        "\n",
        "      z = 1.96 # default \n",
        "      up = mean + (z*std/np.sqrt(size))\n",
        "      low = mean - (z*std/np.sqrt(size))\n",
        "\n",
        "      curr = float(data.loc[i,['AWS']])\n",
        "      if curr > up or curr < low:\n",
        "        anom.append(1) # 1 = yes\n",
        "      else:\n",
        "        anom.append(0) # 0 = no \n",
        "    \n",
        "    data['Anomaly'] = anom\n",
        "    return data\n"
      ],
      "metadata": {
        "id": "ixHjJW_60dBc"
      },
      "execution_count": 5,
      "outputs": []
    },
    {
      "cell_type": "code",
      "source": [
        "def spreadChange(data):\n",
        "\n",
        "  nums = [0]\n",
        "\n",
        "  for i in range(1,len(data)):\n",
        "    if float(data.loc[i,['Spread']]) >= float(data.loc[i-1,['Spread']]): # spread increase/stayed same\n",
        "      nums.append(1)\n",
        "    else:\n",
        "      nums.append(-1)\n",
        "  data['Spread Change'] = nums\n",
        "  return data"
      ],
      "metadata": {
        "id": "snZU6zAd0dZH"
      },
      "execution_count": 6,
      "outputs": []
    },
    {
      "cell_type": "code",
      "source": [
        "def imbalance(data):\n",
        "\n",
        "  imb = np.subtract(data['FB0'].tolist(), data['FA0'].tolist()) / np.add(data['FB0'].tolist(), data['FA0'].tolist())\n",
        "  data['Quote IMB'] = imb\n",
        "  return data"
      ],
      "metadata": {
        "id": "Zrv4lHkz0eAX"
      },
      "execution_count": 7,
      "outputs": []
    },
    {
      "cell_type": "code",
      "source": [
        "\n",
        "def VPIN(data,time = \"minutes\"):\n",
        "\n",
        "  V = math.floor(len(data) / 72) # volume per bucket, num is arbitrary, this is what paper used\n",
        "  L = 5 # number of buckets to look back, arbitrary, this means 5 minutes, for second data would be 300\n",
        "\n",
        "  if time == \"minutes\":\n",
        "    L = 5\n",
        "  else: \n",
        "    L = 300\n",
        "\n",
        "  buy = [] # classify as buy or sell (here, bid or ask)\n",
        "  sell = []\n",
        "\n",
        "  for i in range(0,len(data)):\n",
        "\n",
        "      bidVol = float(data.loc[i,['FB0']])\n",
        "      askVol = float(data.loc[i,['FA0']])\n",
        "\n",
        "      buy.append(list(np.repeat(1,bidVol)))\n",
        "      buy.append(list(np.repeat(0,askVol)))\n",
        "\n",
        "      sell.append(list(np.repeat(0,bidVol)))\n",
        "      sell.append(list(np.repeat(1,askVol)))\n",
        "  \n",
        "  buy = [item for sublist in buy for item in sublist]\n",
        "  sell = [item for sublist in sell for item in sublist] \n",
        "\n",
        "  buckets = [] # holds buckets\n",
        "  i = 1 # counter \n",
        "\n",
        "  while True: \n",
        "\n",
        "    # Partition\n",
        "    currBuys = buy[(i-1)*V:i*V] \n",
        "    currSells = sell[(i-1)*V:i*V]\n",
        "\n",
        "    vB = Counter(currBuys)[1] # Counts number of bids in given bucket\n",
        "    vS = Counter(currSells)[1] # Counts number of asks in given bucket\n",
        "\n",
        "    buckets.append((vB,vS)) # Add this \"bucket\" to list of buckets\n",
        "    if vB + vS < V: # This means we've reached the end\n",
        "      break\n",
        "    i += 1\n",
        "\n",
        "\n",
        "  # Now, we look at the imbalance for the past L buckets, and take abs value. \n",
        "\n",
        "  # This stores the imbalance value of each bucket\n",
        "  # For a given instance, we look back L buckets, and sum these values. \n",
        "  vals = [] \n",
        "\n",
        "  for i in range(0,len(buckets)):\n",
        "    temp = buckets[i]\n",
        "    diff = abs(temp[0] - temp[1])\n",
        "    val = round(diff / (L*V), 5)\n",
        "    vals.append(val)\n",
        "\n",
        "  buck = 1 # Buckets from 1...n\n",
        "  currBucket = []\n",
        "  i = 0\n",
        "\n",
        "  while True:\n",
        "    sum = 0\n",
        "    while sum < V and i < len(data):\n",
        "      bidVol = float(data.loc[i,['FB0']])\n",
        "      askVol = float(data.loc[i,['FA0']])\n",
        "      sum += bidVol + askVol\n",
        "      currBucket.append(buck)\n",
        "      i+= 1\n",
        "    buck += 1\n",
        "    if i >= len(data):\n",
        "      break\n",
        "\n",
        "  data['Bucket #'] = currBucket # indicates which bucket a quote is in \n",
        "\n",
        "  VPIN = []\n",
        "  for i in range(0,len(data)):\n",
        "    currBucket = int(data.loc[i,['Bucket #']])\n",
        "\n",
        "    if currBucket < L:\n",
        "      currVPIN = math.fsum(vals[0:currBucket])\n",
        "      VPIN.append(round(currVPIN,5))\n",
        "    else:\n",
        "      currVPIN = math.fsum(vals[currBucket - L - 1:currBucket-1])\n",
        "      VPIN.append(round(currVPIN,5))\n",
        "\n",
        "  data['VPIN'] = VPIN\n",
        "  data.drop(columns = \"Bucket #\")\n",
        "\n",
        "  return data\n"
      ],
      "metadata": {
        "id": "DiFyClaS0oRC"
      },
      "execution_count": 8,
      "outputs": []
    },
    {
      "cell_type": "code",
      "source": [
        "#quotes=pd.read_csv(\"labeled_data.csv\")"
      ],
      "metadata": {
        "id": "aeQZD_860obB"
      },
      "execution_count": 9,
      "outputs": []
    },
    {
      "cell_type": "code",
      "source": [
        "#quotes.head()"
      ],
      "metadata": {
        "id": "az79ONNy02sZ"
      },
      "execution_count": 13,
      "outputs": []
    },
    {
      "cell_type": "code",
      "source": [
        "#newData = genNewFeatures(quotes)"
      ],
      "metadata": {
        "id": "ux_8SirK04e-"
      },
      "execution_count": 11,
      "outputs": []
    },
    {
      "cell_type": "code",
      "source": [
        "#newData.head()"
      ],
      "metadata": {
        "id": "UnmMa4QN07sF"
      },
      "execution_count": 14,
      "outputs": []
    }
  ]
}